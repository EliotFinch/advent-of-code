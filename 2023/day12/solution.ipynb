{
 "cells": [
  {
   "cell_type": "code",
   "execution_count": 1,
   "metadata": {},
   "outputs": [],
   "source": [
    "with open('input.txt', 'r') as f:\n",
    "    lines = f.read().splitlines()"
   ]
  },
  {
   "cell_type": "code",
   "execution_count": 2,
   "metadata": {},
   "outputs": [],
   "source": [
    "conditions = []\n",
    "checks = []\n",
    "for line in lines:\n",
    "    condition, check = line.split()\n",
    "    check = tuple([int(i) for i in check.split(',')])\n",
    "    conditions.append(condition)\n",
    "    checks.append(check)"
   ]
  },
  {
   "cell_type": "markdown",
   "metadata": {},
   "source": [
    "# Part 1"
   ]
  },
  {
   "cell_type": "code",
   "execution_count": 3,
   "metadata": {},
   "outputs": [],
   "source": [
    "def good_proposal(proposal, check):\n",
    "    return check == tuple([len(g) for g in proposal.split('.') if len(g) > 0])"
   ]
  },
  {
   "cell_type": "markdown",
   "metadata": {},
   "source": [
    "### Brute force with binary numbers"
   ]
  },
  {
   "cell_type": "code",
   "execution_count": 4,
   "metadata": {},
   "outputs": [
    {
     "name": "stdout",
     "output_type": "stream",
     "text": [
      "7599\n"
     ]
    }
   ],
   "source": [
    "arrangement_sum = 0\n",
    "\n",
    "for condition, check in zip(conditions, checks):\n",
    "\n",
    "    # Number of unknown entries\n",
    "    n_unknown = condition.count('?')\n",
    "\n",
    "    # Number of possible arrangement proposals\n",
    "    n_proposals = 2**n_unknown\n",
    "    \n",
    "    # We generate strings of length n_unknown consisitng of all possible \n",
    "    # combinations of zeros (., operational) and ones (#, broken)\n",
    "    format_string = f\"{{:0{n_unknown}b}}\"\n",
    "\n",
    "    # We can generate all proposals by looping over all possible numbers\n",
    "    # between 0 and 2**n_unknown and formatting them as binary strings\n",
    "    for i in range(n_proposals):\n",
    "\n",
    "        binary_proposal = format_string.format(i)\n",
    "        proposal = binary_proposal.replace('0', '.').replace('1', '#')\n",
    "\n",
    "        condition_format = condition.replace('?', '{}')\n",
    "        condition_proposal = condition_format.format(*[c for c in proposal])\n",
    "\n",
    "        if good_proposal(condition_proposal, check):\n",
    "            arrangement_sum += 1\n",
    "\n",
    "print(arrangement_sum)"
   ]
  },
  {
   "cell_type": "markdown",
   "metadata": {},
   "source": [
    "### Slightly optmized with `itertools`"
   ]
  },
  {
   "cell_type": "code",
   "execution_count": 5,
   "metadata": {},
   "outputs": [
    {
     "name": "stdout",
     "output_type": "stream",
     "text": [
      "7599\n"
     ]
    }
   ],
   "source": [
    "import itertools\n",
    "\n",
    "arrangement_sum = 0\n",
    "\n",
    "for condition, check in zip(conditions, checks):\n",
    "\n",
    "    # Number of unknown entries\n",
    "    n_unknown = condition.count('?')\n",
    "\n",
    "    # Number of known broken springs\n",
    "    n_broken = condition.count('#')\n",
    "\n",
    "    # Total number of broken springs\n",
    "    n_broken_total = sum(check)\n",
    "\n",
    "    # Consider all combinations of n_broken_total - n_broken broken springs\n",
    "    for configuration in itertools.combinations(\n",
    "        range(n_unknown), n_broken_total - n_broken\n",
    "        ):\n",
    "\n",
    "        # Convert a tuple of indices into a string of dots and hashes\n",
    "        proposal = ''.join(\n",
    "            ['#' if i in configuration else '.' for i in range(n_unknown)]\n",
    "            )\n",
    "\n",
    "        condition_format = condition.replace('?', '{}')\n",
    "        condition_proposal = condition_format.format(*[c for c in proposal])\n",
    "\n",
    "        if good_proposal(condition_proposal, check):\n",
    "            arrangement_sum += 1\n",
    "\n",
    "print(arrangement_sum)"
   ]
  },
  {
   "cell_type": "markdown",
   "metadata": {},
   "source": [
    "### Much faster with a recursive function"
   ]
  },
  {
   "cell_type": "code",
   "execution_count": 6,
   "metadata": {},
   "outputs": [],
   "source": [
    "from functools import cache\n",
    "\n",
    "@cache\n",
    "def count(condition, check):\n",
    "\n",
    "    # We can use recursion to consider all choices for the unknown springs and\n",
    "    # build up a count of the number of valid arrangements. The idea is to go\n",
    "    # through each character of the condition string from left to right until \n",
    "    # we run our of characters in the conditions tring, or we run out of check\n",
    "    # values. We will have a base case for each of these scenarios:\n",
    "    \n",
    "    if len(condition) == 0:\n",
    "        # This is okay as long as all the numbers in check have been used up:\n",
    "        if len(check) == 0:\n",
    "            return 1\n",
    "        # If there are still numbers in the check, then this is not a valid\n",
    "        # arrangement:\n",
    "        else:\n",
    "            return 0\n",
    "        \n",
    "    if len(check) == 0:\n",
    "        # This is okay as long as there are no more broken springs in the \n",
    "        # condition:\n",
    "        if '#' not in condition:\n",
    "            return 1\n",
    "        # If there are still broken springs in the condition, then this is not\n",
    "        # a valid arrangement:\n",
    "        else:\n",
    "            return 0\n",
    "\n",
    "    n_arrangements = 0\n",
    "\n",
    "    # Before the above base cases, we iterate through the condition string. If \n",
    "    # the character is a dot, we simply \"chop off\" the dot and call the count \n",
    "    # function on the remaining condition string. We can also capture the case \n",
    "    # where we replace a question mark with a dot in this way. \n",
    "    if condition[0] in '.?':\n",
    "        n_arrangements += count(condition[1:], check)\n",
    "\n",
    "    # If the character is a hash (or we choose the question mark to be a hash), \n",
    "    # we can potentially move to the end of the proceeding contiguous group of \n",
    "    # damaged springs (i.e., move along multiple characters in the condition). \n",
    "    # Then we will call the count function on the remaining condition string, \n",
    "    # with the first element of the check list removed.\n",
    "    if condition[0] in '#?':\n",
    "        \n",
    "        if (\n",
    "            # For this group of hashes to correspond to the first value in \n",
    "            # check, there can't a dot in the condition string before the \n",
    "            # expected end of the group of hashes:\n",
    "            ('.' not in condition[:check[0]])\n",
    "\n",
    "            and\n",
    "\n",
    "            # We also need to make sure there are enough characters left in the\n",
    "            # condition string to satisfy the expected length of the group of\n",
    "            # hashes:\n",
    "            (len(condition) >= check[0])\n",
    "\n",
    "            and\n",
    "\n",
    "            # For this group of hashes to be the correct length, we require\n",
    "            # a dot (or a question mark that can be turned into a dot) at the \n",
    "            # end of the expected length. We could also be at the end of the \n",
    "            # line:\n",
    "            ((check[0] == len(condition)) or (condition[check[0]] != '#'))\n",
    "        ):\n",
    "            n_arrangements += count(condition[check[0]+1:], check[1:])\n",
    "\n",
    "    # The above will iterate until we either get through every character in \n",
    "    # the condition string, or we run out of numbers in the check. When that \n",
    "    # happens, the base cases at the top of the function will be triggered.\n",
    "        \n",
    "    return n_arrangements"
   ]
  },
  {
   "cell_type": "code",
   "execution_count": 7,
   "metadata": {},
   "outputs": [
    {
     "name": "stdout",
     "output_type": "stream",
     "text": [
      "7599\n"
     ]
    }
   ],
   "source": [
    "arrangement_sum = 0\n",
    "\n",
    "for condition, check in zip(conditions, checks):\n",
    "    arrangement_sum += count(condition, check)\n",
    "\n",
    "print(arrangement_sum)"
   ]
  },
  {
   "cell_type": "markdown",
   "metadata": {},
   "source": [
    "# Part 2"
   ]
  },
  {
   "cell_type": "code",
   "execution_count": 8,
   "metadata": {},
   "outputs": [
    {
     "name": "stdout",
     "output_type": "stream",
     "text": [
      "15454556629917\n"
     ]
    }
   ],
   "source": [
    "arrangement_sum = 0\n",
    "\n",
    "for condition, check in zip(conditions, checks):\n",
    "    condition += 4*('?' + condition)\n",
    "    check *= 5\n",
    "    arrangement_sum += count(condition, check)\n",
    "\n",
    "print(arrangement_sum)"
   ]
  }
 ],
 "metadata": {
  "kernelspec": {
   "display_name": ".venv",
   "language": "python",
   "name": "python3"
  },
  "language_info": {
   "codemirror_mode": {
    "name": "ipython",
    "version": 3
   },
   "file_extension": ".py",
   "mimetype": "text/x-python",
   "name": "python",
   "nbconvert_exporter": "python",
   "pygments_lexer": "ipython3",
   "version": "3.11.5"
  }
 },
 "nbformat": 4,
 "nbformat_minor": 2
}
